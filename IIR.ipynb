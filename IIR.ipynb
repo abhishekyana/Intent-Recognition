{
 "cells": [
  {
   "cell_type": "code",
   "execution_count": 1,
   "metadata": {
    "collapsed": true
   },
   "outputs": [],
   "source": [
    "from intentrecognition import IntentRecognition"
   ]
  },
  {
   "cell_type": "code",
   "execution_count": 2,
   "metadata": {
    "collapsed": true
   },
   "outputs": [],
   "source": [
    "IR = IntentRecognition()"
   ]
  },
  {
   "cell_type": "code",
   "execution_count": 3,
   "metadata": {},
   "outputs": [
    {
     "name": "stdout",
     "output_type": "stream",
     "text": [
      "1. Trained for ./datasets/beverage_dataset.json\n",
      "2. Trained for ./datasets/flights_dataset.json\n",
      "3. Trained for ./datasets/lights_dataset.json\n",
      "Training for 3 datasets completed\n"
     ]
    }
   ],
   "source": [
    "IR.loadntrain()"
   ]
  },
  {
   "cell_type": "code",
   "execution_count": 4,
   "metadata": {},
   "outputs": [
    {
     "data": {
      "text/plain": [
       "{'input': 'Book a flight from paris to london',\n",
       " 'intent': {'intentName': 'bookFlight', 'probability': 0.7604543307451122},\n",
       " 'slots': [{'entity': 'locality',\n",
       "   'range': {'end': 24, 'start': 19},\n",
       "   'rawValue': 'paris',\n",
       "   'slotName': 'departure',\n",
       "   'value': {'kind': 'Custom', 'value': 'Paris'}},\n",
       "  {'entity': 'locality',\n",
       "   'range': {'end': 34, 'start': 28},\n",
       "   'rawValue': 'london',\n",
       "   'slotName': 'destination',\n",
       "   'value': {'kind': 'Custom', 'value': 'London'}}]}"
      ]
     },
     "execution_count": 4,
     "metadata": {},
     "output_type": "execute_result"
    }
   ],
   "source": [
    "IR.predict(\"Book a flight from paris to london\")"
   ]
  },
  {
   "cell_type": "code",
   "execution_count": null,
   "metadata": {
    "collapsed": true
   },
   "outputs": [],
   "source": []
  }
 ],
 "metadata": {
  "kernelspec": {
   "display_name": "Python 3",
   "language": "python",
   "name": "python3"
  },
  "language_info": {
   "codemirror_mode": {
    "name": "ipython",
    "version": 3
   },
   "file_extension": ".py",
   "mimetype": "text/x-python",
   "name": "python",
   "nbconvert_exporter": "python",
   "pygments_lexer": "ipython3",
   "version": "3.6.2"
  }
 },
 "nbformat": 4,
 "nbformat_minor": 2
}
